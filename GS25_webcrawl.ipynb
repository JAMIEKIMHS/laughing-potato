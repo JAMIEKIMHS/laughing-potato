{
 "cells": [
  {
   "cell_type": "code",
   "execution_count": 2,
   "id": "0c07f9ef",
   "metadata": {},
   "outputs": [],
   "source": [
    "import requests\n",
    "from bs4 import BeautifulSoup as BS\n",
    "url = \"http://gs25.gsretail.com/gscvs/ko/store-services/locations\"\n",
    "payload = {\"pageNum\" :\"1\",\n",
    "\"pageSize\" :\"5\",\n",
    "\"searchShopName\" :\"\",\n",
    "\"searchSido\" :\"\",\n",
    "\"searchGugun\" :\"\",\n",
    "\"searchDong\" :\"\",\n",
    "\"searchType\" :\"\",\n",
    "\"searchTypeService\" :\"0\",\n",
    "\"searchTypeToto\" :\"0\",\n",
    "\"searchTypeCafe25\" :\"0\",\n",
    "\"searchTypeInstant\" :\"0\",\n",
    "\"searchTypeDrug\" :\"0\",\n",
    "\"searchTypeSelf25\" :\"0\",\n",
    "\"searchTypePost\" :\"0\",\n",
    "\"searchTypeATM\" :\"0\",\n",
    "\"searchTypeWithdrawal\" :\"0\",\n",
    "\"searchTypeTaxrefund\" :\"0\",\n",
    "\"searchTypeSmartAtm\" :\"0\",\n",
    "\"searchTypeSelfCookingUtensils\" :\"0\",\n",
    "\"searchTypeDeliveryService\" :\"0\"}\n",
    "r = requests.post(url,data = payload)\n",
    "bs = BS(r.text)"
   ]
  },
  {
   "cell_type": "code",
   "execution_count": 3,
   "id": "816b965b",
   "metadata": {},
   "outputs": [
    {
     "data": {
      "text/plain": [
       "<!DOCTYPE html PUBLIC \"-//W3C//DTD XHTML 1.0 Transitional//EN\" \"http://www.w3.org/TR/xhtml1/DTD/xhtml1-transitional.dtd\">\n",
       "<html lang=\"ko\" xml:lang=\"ko\" xmlns=\"http://www.w3.org/1999/xhtml\">\n",
       "<head>\n",
       "<meta content=\"IE=edge\" http-equiv=\"X-UA-Compatible\"/>\n",
       "<meta content=\"text/html; charset=utf-8\" http-equiv=\"Content-Type\"/>\n",
       "<meta content=\"no-cache\" http-equiv=\"pragma\"/>\n",
       "<meta content=\"No-Cache\" http-equiv=\"Cache-Control\"/>\n",
       "<title>Gsretail Site</title>\n",
       "<script src=\"/_ui/desktop/common/js/gsretail/jquery-1.11.2.js\" type=\"text/javascript\"></script>\n",
       "<script src=\"/_ui/desktop/common/js/gsretail/ui.js\" type=\"text/javascript\"></script>\n",
       "<script src=\"/_ui/desktop/common/js/gsretail/jPushMenu.js\" type=\"text/javascript\"></script>\n",
       "<script src=\"/_ui/desktop/common/js/gsretail/selectbox-min.js\" type=\"text/javascript\"></script>\n",
       "<link href=\"/_ui/desktop/common/css/gsretail/common.css\" rel=\"stylesheet\" type=\"text/css\"/>\n",
       "</head>\n",
       "<body>\n",
       "<div id=\"wrap\">\n",
       "<!-- Error Wrap -->\n",
       "<div class=\"error_wrap\">\n",
       "<div class=\"mb50\">\n",
       "<img alt=\"죄송합니다. 페이지를 표시할 수 없습니다.\" src=\"/_ui/desktop/common/images/gsretail/common/error_img.gif\"/>\n",
       "</div>\n",
       "<a href=\"http://www.gsretail.com/\"><img alt=\"메인으로 돌아가기\" src=\"/_ui/desktop/common/images/gsretail/common/error_btn.gif\"/></a>\n",
       "</div>\n",
       "<!-- //Error Wrap -->\n",
       "</div>\n",
       "</body>\n",
       "</html>"
      ]
     },
     "execution_count": 3,
     "metadata": {},
     "output_type": "execute_result"
    }
   ],
   "source": [
    "bs"
   ]
  },
  {
   "cell_type": "code",
   "execution_count": 5,
   "id": "60fd8bfd",
   "metadata": {},
   "outputs": [],
   "source": [
    "with requests.Session() as s:\n",
    "    r = s.get(url)\n",
    "    bs = BS(r.text)\n",
    "    csrf = bs.find(\"form\", id=\"CSRFForm\").find(\"input\")['value']\n",
    "#세션 연결상태 유지 위해서 with구문 사용"
   ]
  },
  {
   "cell_type": "code",
   "execution_count": 6,
   "id": "5b1d4bc4",
   "metadata": {},
   "outputs": [
    {
     "data": {
      "text/plain": [
       "'36e331f8-cdae-4452-b553-713cd3b18f6b'"
      ]
     },
     "execution_count": 6,
     "metadata": {},
     "output_type": "execute_result"
    }
   ],
   "source": [
    "csrf"
   ]
  },
  {
   "cell_type": "code",
   "execution_count": 7,
   "id": "6111ecd7",
   "metadata": {},
   "outputs": [
    {
     "data": {
      "text/html": [
       "<div>\n",
       "<style scoped>\n",
       "    .dataframe tbody tr th:only-of-type {\n",
       "        vertical-align: middle;\n",
       "    }\n",
       "\n",
       "    .dataframe tbody tr th {\n",
       "        vertical-align: top;\n",
       "    }\n",
       "\n",
       "    .dataframe thead th {\n",
       "        text-align: right;\n",
       "    }\n",
       "</style>\n",
       "<table border=\"1\" class=\"dataframe\">\n",
       "  <thead>\n",
       "    <tr style=\"text-align: right;\">\n",
       "      <th></th>\n",
       "      <th>offeringService</th>\n",
       "      <th>shopCode</th>\n",
       "      <th>longs</th>\n",
       "      <th>address</th>\n",
       "      <th>shopName</th>\n",
       "      <th>lat</th>\n",
       "    </tr>\n",
       "  </thead>\n",
       "  <tbody>\n",
       "    <tr>\n",
       "      <th>0</th>\n",
       "      <td>[toto, cafe25, post, withdrawal]</td>\n",
       "      <td>V3414</td>\n",
       "      <td>37.51826292</td>\n",
       "      <td>경기 부천시 오정구 석천로345,  300동 114호(삼정동 365)</td>\n",
       "      <td>GS252테크노파크점</td>\n",
       "      <td>126.76388845</td>\n",
       "    </tr>\n",
       "    <tr>\n",
       "      <th>1</th>\n",
       "      <td>[cafe25, drug, post, atm, withdrawal, smart_atm]</td>\n",
       "      <td>VX815</td>\n",
       "      <td>38.00414846</td>\n",
       "      <td>강원 양양군 현북면 동해대로1242, 38선휴게소 (잔교리 41-10, 38휴게소)</td>\n",
       "      <td>GS2538선휴게소점</td>\n",
       "      <td>128.73283627</td>\n",
       "    </tr>\n",
       "    <tr>\n",
       "      <th>2</th>\n",
       "      <td>[post]</td>\n",
       "      <td>VQ037</td>\n",
       "      <td>37.52831065</td>\n",
       "      <td>서울 양천구 목동서로159-1 (목1동 917-1, CBS방송국1층)</td>\n",
       "      <td>GS25CBS점</td>\n",
       "      <td>126.87486792</td>\n",
       "    </tr>\n",
       "    <tr>\n",
       "      <th>3</th>\n",
       "      <td>[cafe25]</td>\n",
       "      <td>V7W76</td>\n",
       "      <td>36.44932895</td>\n",
       "      <td>대전 대덕구 대덕대로1447번길39, 1층 (문평동 140)</td>\n",
       "      <td>GS25CJ대전HUB점</td>\n",
       "      <td>127.40708036</td>\n",
       "    </tr>\n",
       "    <tr>\n",
       "      <th>4</th>\n",
       "      <td>NaN</td>\n",
       "      <td>V6Z47</td>\n",
       "      <td>37.69488283</td>\n",
       "      <td>경기 고양시 일산동구 성현로615 (사리현동 151-1, CJ대한통운)</td>\n",
       "      <td>GS25CJ덕양SUB점</td>\n",
       "      <td>126.84958684</td>\n",
       "    </tr>\n",
       "  </tbody>\n",
       "</table>\n",
       "</div>"
      ],
      "text/plain": [
       "                                    offeringService shopCode        longs  \\\n",
       "0                  [toto, cafe25, post, withdrawal]    V3414  37.51826292   \n",
       "1  [cafe25, drug, post, atm, withdrawal, smart_atm]    VX815  38.00414846   \n",
       "2                                            [post]    VQ037  37.52831065   \n",
       "3                                          [cafe25]    V7W76  36.44932895   \n",
       "4                                               NaN    V6Z47  37.69488283   \n",
       "\n",
       "                                          address      shopName           lat  \n",
       "0          경기 부천시 오정구 석천로345,  300동 114호(삼정동 365)   GS252테크노파크점  126.76388845  \n",
       "1  강원 양양군 현북면 동해대로1242, 38선휴게소 (잔교리 41-10, 38휴게소)   GS2538선휴게소점  128.73283627  \n",
       "2          서울 양천구 목동서로159-1 (목1동 917-1, CBS방송국1층)      GS25CBS점  126.87486792  \n",
       "3               대전 대덕구 대덕대로1447번길39, 1층 (문평동 140)  GS25CJ대전HUB점  127.40708036  \n",
       "4         경기 고양시 일산동구 성현로615 (사리현동 151-1, CJ대한통운)  GS25CJ덕양SUB점  126.84958684  "
      ]
     },
     "execution_count": 7,
     "metadata": {},
     "output_type": "execute_result"
    }
   ],
   "source": [
    "import json\n",
    "import pandas as pd\n",
    "post_url = \"http://gs25.gsretail.com/gscvs/ko/store-services/locationList?CSRFToken={}\"\n",
    "with requests.Session() as s:\n",
    "    r = s.get(url)\n",
    "    bs = BS(r.text)\n",
    "    csrf = bs.find(\"form\", id=\"CSRFForm\").find(\"input\")['value']\n",
    "    r2 = s.post(post_url.format(csrf), data=payload)\n",
    "    payload['pageSize'] = 5000\n",
    "\n",
    "gs = pd.DataFrame(json.loads(r2.json())['results'])\n",
    "gs"
   ]
  },
  {
   "cell_type": "code",
   "execution_count": 8,
   "id": "3683d3d3",
   "metadata": {},
   "outputs": [],
   "source": [
    "master = {x.text : x['value'] for x in bs.find(\"select\", id=\"stb1\").findAll(\"option\")[1:]}"
   ]
  },
  {
   "cell_type": "code",
   "execution_count": 9,
   "id": "cc259e30",
   "metadata": {},
   "outputs": [
    {
     "data": {
      "text/plain": [
       "{'서울시': '11',\n",
       " '부산시': '26',\n",
       " '대구시': '27',\n",
       " '광주시': '29',\n",
       " '인천시': '28',\n",
       " '대전시': '30',\n",
       " '울산시': '31',\n",
       " '세종특별자치시': '36',\n",
       " '경기도': '41',\n",
       " '강원도': '42',\n",
       " '충청남도': '44',\n",
       " '충청북도': '43',\n",
       " '경상남도': '48',\n",
       " '경상북도': '47',\n",
       " '전라남도': '46',\n",
       " '전라북도': '45',\n",
       " '제주특별자치도': '50'}"
      ]
     },
     "execution_count": 9,
     "metadata": {},
     "output_type": "execute_result"
    }
   ],
   "source": [
    "master"
   ]
  },
  {
   "cell_type": "code",
   "execution_count": 10,
   "id": "edfcd194",
   "metadata": {},
   "outputs": [
    {
     "data": {
      "text/html": [
       "<div>\n",
       "<style scoped>\n",
       "    .dataframe tbody tr th:only-of-type {\n",
       "        vertical-align: middle;\n",
       "    }\n",
       "\n",
       "    .dataframe tbody tr th {\n",
       "        vertical-align: top;\n",
       "    }\n",
       "\n",
       "    .dataframe thead th {\n",
       "        text-align: right;\n",
       "    }\n",
       "</style>\n",
       "<table border=\"1\" class=\"dataframe\">\n",
       "  <thead>\n",
       "    <tr style=\"text-align: right;\">\n",
       "      <th></th>\n",
       "      <th>offeringService</th>\n",
       "      <th>shopCode</th>\n",
       "      <th>longs</th>\n",
       "      <th>address</th>\n",
       "      <th>shopName</th>\n",
       "      <th>lat</th>\n",
       "    </tr>\n",
       "  </thead>\n",
       "  <tbody>\n",
       "    <tr>\n",
       "      <th>0</th>\n",
       "      <td>[post]</td>\n",
       "      <td>VQ037</td>\n",
       "      <td>37.52831065</td>\n",
       "      <td>서울 양천구 목동서로159-1 (목1동 917-1, CBS방송국1층)</td>\n",
       "      <td>GS25CBS점</td>\n",
       "      <td>126.87486792</td>\n",
       "    </tr>\n",
       "    <tr>\n",
       "      <th>1</th>\n",
       "      <td>[cafe25, post]</td>\n",
       "      <td>VO395</td>\n",
       "      <td>37.5783899</td>\n",
       "      <td>서울 마포구 매봉산로75, 1층 107호 (상암동 1610)</td>\n",
       "      <td>GS25DDMC점</td>\n",
       "      <td>126.89294205</td>\n",
       "    </tr>\n",
       "    <tr>\n",
       "      <th>2</th>\n",
       "      <td>[cafe25, post]</td>\n",
       "      <td>VER76</td>\n",
       "      <td>37.57410234</td>\n",
       "      <td>서울 서대문구 가재울미래로2, 203동 101호 (남가좌동 385, 2단지)</td>\n",
       "      <td>GS25DMC가재울점</td>\n",
       "      <td>126.91639401</td>\n",
       "    </tr>\n",
       "    <tr>\n",
       "      <th>3</th>\n",
       "      <td>[cafe25, instant, post]</td>\n",
       "      <td>V9A48</td>\n",
       "      <td>37.50235508</td>\n",
       "      <td>서울 강남구 테헤란로223, 1층 101호 (역삼동 677-25, 큰길타워빌딩)</td>\n",
       "      <td>GS25DXLAB점</td>\n",
       "      <td>127.04069826</td>\n",
       "    </tr>\n",
       "    <tr>\n",
       "      <th>4</th>\n",
       "      <td>[drug, withdrawal]</td>\n",
       "      <td>VI989</td>\n",
       "      <td>37.55513349</td>\n",
       "      <td>서울 강동구 고덕로39 (암사3동 441-14)</td>\n",
       "      <td>GS25G고덕점</td>\n",
       "      <td>127.12956973</td>\n",
       "    </tr>\n",
       "    <tr>\n",
       "      <th>...</th>\n",
       "      <td>...</td>\n",
       "      <td>...</td>\n",
       "      <td>...</td>\n",
       "      <td>...</td>\n",
       "      <td>...</td>\n",
       "      <td>...</td>\n",
       "    </tr>\n",
       "    <tr>\n",
       "      <th>384</th>\n",
       "      <td>[cafe25, instant, drug, post]</td>\n",
       "      <td>V9377</td>\n",
       "      <td>33.51836478</td>\n",
       "      <td>제주 제주시 동화로1길49-9 (화북일동 13-6)</td>\n",
       "      <td>GS25화북주공점</td>\n",
       "      <td>126.57739082</td>\n",
       "    </tr>\n",
       "    <tr>\n",
       "      <th>385</th>\n",
       "      <td>[cafe25, post]</td>\n",
       "      <td>V4S83</td>\n",
       "      <td>33.52321296</td>\n",
       "      <td>제주 제주시 진남로33 (화북일동 4201-2)</td>\n",
       "      <td>GS25화북진남점</td>\n",
       "      <td>126.56390997</td>\n",
       "    </tr>\n",
       "    <tr>\n",
       "      <th>386</th>\n",
       "      <td>[cafe25, instant, withdrawal]</td>\n",
       "      <td>VY067</td>\n",
       "      <td>33.24402459</td>\n",
       "      <td>제주 서귀포시 안덕면 화순중앙로94 (화순리 358-3)</td>\n",
       "      <td>GS25화순아일랜드점</td>\n",
       "      <td>126.33601411</td>\n",
       "    </tr>\n",
       "    <tr>\n",
       "      <th>387</th>\n",
       "      <td>[cafe25, drug, withdrawal, self_cook]</td>\n",
       "      <td>VDB29</td>\n",
       "      <td>33.24653847</td>\n",
       "      <td>제주 서귀포시 안덕면 화순로142, C동 1층 (화순리 1055-3)</td>\n",
       "      <td>GS25화순육거리점</td>\n",
       "      <td>126.33119176</td>\n",
       "    </tr>\n",
       "    <tr>\n",
       "      <th>388</th>\n",
       "      <td>[cafe25, instant, drug, withdrawal]</td>\n",
       "      <td>V4B85</td>\n",
       "      <td>33.26036029</td>\n",
       "      <td>제주 서귀포시 일주동로8139 (하효동 631-2)</td>\n",
       "      <td>GS25효돈사거리점</td>\n",
       "      <td>126.61782937</td>\n",
       "    </tr>\n",
       "  </tbody>\n",
       "</table>\n",
       "<p>16377 rows × 6 columns</p>\n",
       "</div>"
      ],
      "text/plain": [
       "                           offeringService shopCode        longs  \\\n",
       "0                                   [post]    VQ037  37.52831065   \n",
       "1                           [cafe25, post]    VO395   37.5783899   \n",
       "2                           [cafe25, post]    VER76  37.57410234   \n",
       "3                  [cafe25, instant, post]    V9A48  37.50235508   \n",
       "4                       [drug, withdrawal]    VI989  37.55513349   \n",
       "..                                     ...      ...          ...   \n",
       "384          [cafe25, instant, drug, post]    V9377  33.51836478   \n",
       "385                         [cafe25, post]    V4S83  33.52321296   \n",
       "386          [cafe25, instant, withdrawal]    VY067  33.24402459   \n",
       "387  [cafe25, drug, withdrawal, self_cook]    VDB29  33.24653847   \n",
       "388    [cafe25, instant, drug, withdrawal]    V4B85  33.26036029   \n",
       "\n",
       "                                          address     shopName           lat  \n",
       "0          서울 양천구 목동서로159-1 (목1동 917-1, CBS방송국1층)     GS25CBS점  126.87486792  \n",
       "1               서울 마포구 매봉산로75, 1층 107호 (상암동 1610)    GS25DDMC점  126.89294205  \n",
       "2      서울 서대문구 가재울미래로2, 203동 101호 (남가좌동 385, 2단지)  GS25DMC가재울점  126.91639401  \n",
       "3    서울 강남구 테헤란로223, 1층 101호 (역삼동 677-25, 큰길타워빌딩)   GS25DXLAB점  127.04069826  \n",
       "4                      서울 강동구 고덕로39 (암사3동 441-14)     GS25G고덕점  127.12956973  \n",
       "..                                            ...          ...           ...  \n",
       "384                  제주 제주시 동화로1길49-9 (화북일동 13-6)    GS25화북주공점  126.57739082  \n",
       "385                    제주 제주시 진남로33 (화북일동 4201-2)    GS25화북진남점  126.56390997  \n",
       "386               제주 서귀포시 안덕면 화순중앙로94 (화순리 358-3)  GS25화순아일랜드점  126.33601411  \n",
       "387        제주 서귀포시 안덕면 화순로142, C동 1층 (화순리 1055-3)   GS25화순육거리점  126.33119176  \n",
       "388                  제주 서귀포시 일주동로8139 (하효동 631-2)   GS25효돈사거리점  126.61782937  \n",
       "\n",
       "[16377 rows x 6 columns]"
      ]
     },
     "execution_count": 10,
     "metadata": {},
     "output_type": "execute_result"
    }
   ],
   "source": [
    "import json\n",
    "import pandas as pd\n",
    "post_url = \"http://gs25.gsretail.com/gscvs/ko/store-services/locationList?CSRFToken={}\"\n",
    "total = []\n",
    "with requests.Session() as s:\n",
    "    r = s.get(url)\n",
    "    bs = BS(r.text)\n",
    "    csrf = bs.find(\"form\", id=\"CSRFForm\").find(\"input\")['value']\n",
    "    for code in master.values():\n",
    "        payload['pageSize'] = 5000\n",
    "        payload['searchSido'] = code\n",
    "        r2 = s.post(post_url.format(csrf), data=payload)\n",
    "        total.append(pd.DataFrame(json.loads(r2.json())['results']))\n",
    "gs = pd.concat(total)\n",
    "gs"
   ]
  },
  {
   "cell_type": "code",
   "execution_count": 11,
   "id": "2afeb945",
   "metadata": {},
   "outputs": [],
   "source": [
    "gs['시'] = gs['address'].apply(lambda x : x.split()[0])"
   ]
  },
  {
   "cell_type": "code",
   "execution_count": 12,
   "id": "d56d077c",
   "metadata": {},
   "outputs": [
    {
     "data": {
      "text/plain": [
       "경기       4487\n",
       "서울       3105\n",
       "경남       1021\n",
       "부산        909\n",
       "인천        904\n",
       "경북        807\n",
       "충남        764\n",
       "강원        660\n",
       "대구        639\n",
       "충북        531\n",
       "전북        469\n",
       "대전        459\n",
       "전남        443\n",
       "제주        387\n",
       "광주        354\n",
       "울산        332\n",
       "세종        102\n",
       "부산광역시       2\n",
       "제주특별자       2\n",
       "Name: 시, dtype: int64"
      ]
     },
     "execution_count": 12,
     "metadata": {},
     "output_type": "execute_result"
    }
   ],
   "source": [
    "gs['시'].value_counts()"
   ]
  },
  {
   "cell_type": "markdown",
   "id": "0bed429a",
   "metadata": {},
   "source": [
    "## offering service 데이터 다루기"
   ]
  },
  {
   "cell_type": "code",
   "execution_count": 13,
   "id": "eb7201b7",
   "metadata": {},
   "outputs": [
    {
     "data": {
      "text/plain": [
       "0                                     [post]\n",
       "1                             [cafe25, post]\n",
       "2                             [cafe25, post]\n",
       "3                    [cafe25, instant, post]\n",
       "4                         [drug, withdrawal]\n",
       "                       ...                  \n",
       "384            [cafe25, instant, drug, post]\n",
       "385                           [cafe25, post]\n",
       "386            [cafe25, instant, withdrawal]\n",
       "387    [cafe25, drug, withdrawal, self_cook]\n",
       "388      [cafe25, instant, drug, withdrawal]\n",
       "Name: offeringService, Length: 16377, dtype: object"
      ]
     },
     "execution_count": 13,
     "metadata": {},
     "output_type": "execute_result"
    }
   ],
   "source": [
    "gs['offeringService']"
   ]
  },
  {
   "cell_type": "code",
   "execution_count": 14,
   "id": "23e4b8a5",
   "metadata": {},
   "outputs": [
    {
     "data": {
      "text/plain": [
       "423"
      ]
     },
     "execution_count": 14,
     "metadata": {},
     "output_type": "execute_result"
    }
   ],
   "source": [
    "gs['offeringService'].isnull().sum()"
   ]
  },
  {
   "cell_type": "code",
   "execution_count": 16,
   "id": "0ce7f70c",
   "metadata": {},
   "outputs": [],
   "source": [
    "gs.loc[gs['offeringService'].notnull(), '의료'] = gs[gs['offeringService'].notnull()]['offeringService'].apply(lambda x :\n",
    "                                    'Y' if 'drug' in x else 'N') #의료 관련 서비스가 있는지 없는지 표시"
   ]
  },
  {
   "cell_type": "code",
   "execution_count": 17,
   "id": "3acf64c1",
   "metadata": {},
   "outputs": [
    {
     "data": {
      "text/html": [
       "<div>\n",
       "<style scoped>\n",
       "    .dataframe tbody tr th:only-of-type {\n",
       "        vertical-align: middle;\n",
       "    }\n",
       "\n",
       "    .dataframe tbody tr th {\n",
       "        vertical-align: top;\n",
       "    }\n",
       "\n",
       "    .dataframe thead th {\n",
       "        text-align: right;\n",
       "    }\n",
       "</style>\n",
       "<table border=\"1\" class=\"dataframe\">\n",
       "  <thead>\n",
       "    <tr style=\"text-align: right;\">\n",
       "      <th></th>\n",
       "      <th>offeringService</th>\n",
       "      <th>shopCode</th>\n",
       "      <th>longs</th>\n",
       "      <th>address</th>\n",
       "      <th>shopName</th>\n",
       "      <th>lat</th>\n",
       "      <th>시</th>\n",
       "      <th>의료</th>\n",
       "    </tr>\n",
       "  </thead>\n",
       "  <tbody>\n",
       "    <tr>\n",
       "      <th>0</th>\n",
       "      <td>[post]</td>\n",
       "      <td>VQ037</td>\n",
       "      <td>37.52831065</td>\n",
       "      <td>서울 양천구 목동서로159-1 (목1동 917-1, CBS방송국1층)</td>\n",
       "      <td>GS25CBS점</td>\n",
       "      <td>126.87486792</td>\n",
       "      <td>서울</td>\n",
       "      <td>N</td>\n",
       "    </tr>\n",
       "    <tr>\n",
       "      <th>1</th>\n",
       "      <td>[cafe25, post]</td>\n",
       "      <td>VO395</td>\n",
       "      <td>37.5783899</td>\n",
       "      <td>서울 마포구 매봉산로75, 1층 107호 (상암동 1610)</td>\n",
       "      <td>GS25DDMC점</td>\n",
       "      <td>126.89294205</td>\n",
       "      <td>서울</td>\n",
       "      <td>N</td>\n",
       "    </tr>\n",
       "    <tr>\n",
       "      <th>2</th>\n",
       "      <td>[cafe25, post]</td>\n",
       "      <td>VER76</td>\n",
       "      <td>37.57410234</td>\n",
       "      <td>서울 서대문구 가재울미래로2, 203동 101호 (남가좌동 385, 2단지)</td>\n",
       "      <td>GS25DMC가재울점</td>\n",
       "      <td>126.91639401</td>\n",
       "      <td>서울</td>\n",
       "      <td>N</td>\n",
       "    </tr>\n",
       "    <tr>\n",
       "      <th>3</th>\n",
       "      <td>[cafe25, instant, post]</td>\n",
       "      <td>V9A48</td>\n",
       "      <td>37.50235508</td>\n",
       "      <td>서울 강남구 테헤란로223, 1층 101호 (역삼동 677-25, 큰길타워빌딩)</td>\n",
       "      <td>GS25DXLAB점</td>\n",
       "      <td>127.04069826</td>\n",
       "      <td>서울</td>\n",
       "      <td>N</td>\n",
       "    </tr>\n",
       "    <tr>\n",
       "      <th>4</th>\n",
       "      <td>[drug, withdrawal]</td>\n",
       "      <td>VI989</td>\n",
       "      <td>37.55513349</td>\n",
       "      <td>서울 강동구 고덕로39 (암사3동 441-14)</td>\n",
       "      <td>GS25G고덕점</td>\n",
       "      <td>127.12956973</td>\n",
       "      <td>서울</td>\n",
       "      <td>Y</td>\n",
       "    </tr>\n",
       "    <tr>\n",
       "      <th>...</th>\n",
       "      <td>...</td>\n",
       "      <td>...</td>\n",
       "      <td>...</td>\n",
       "      <td>...</td>\n",
       "      <td>...</td>\n",
       "      <td>...</td>\n",
       "      <td>...</td>\n",
       "      <td>...</td>\n",
       "    </tr>\n",
       "    <tr>\n",
       "      <th>384</th>\n",
       "      <td>[cafe25, instant, drug, post]</td>\n",
       "      <td>V9377</td>\n",
       "      <td>33.51836478</td>\n",
       "      <td>제주 제주시 동화로1길49-9 (화북일동 13-6)</td>\n",
       "      <td>GS25화북주공점</td>\n",
       "      <td>126.57739082</td>\n",
       "      <td>제주</td>\n",
       "      <td>Y</td>\n",
       "    </tr>\n",
       "    <tr>\n",
       "      <th>385</th>\n",
       "      <td>[cafe25, post]</td>\n",
       "      <td>V4S83</td>\n",
       "      <td>33.52321296</td>\n",
       "      <td>제주 제주시 진남로33 (화북일동 4201-2)</td>\n",
       "      <td>GS25화북진남점</td>\n",
       "      <td>126.56390997</td>\n",
       "      <td>제주</td>\n",
       "      <td>N</td>\n",
       "    </tr>\n",
       "    <tr>\n",
       "      <th>386</th>\n",
       "      <td>[cafe25, instant, withdrawal]</td>\n",
       "      <td>VY067</td>\n",
       "      <td>33.24402459</td>\n",
       "      <td>제주 서귀포시 안덕면 화순중앙로94 (화순리 358-3)</td>\n",
       "      <td>GS25화순아일랜드점</td>\n",
       "      <td>126.33601411</td>\n",
       "      <td>제주</td>\n",
       "      <td>N</td>\n",
       "    </tr>\n",
       "    <tr>\n",
       "      <th>387</th>\n",
       "      <td>[cafe25, drug, withdrawal, self_cook]</td>\n",
       "      <td>VDB29</td>\n",
       "      <td>33.24653847</td>\n",
       "      <td>제주 서귀포시 안덕면 화순로142, C동 1층 (화순리 1055-3)</td>\n",
       "      <td>GS25화순육거리점</td>\n",
       "      <td>126.33119176</td>\n",
       "      <td>제주</td>\n",
       "      <td>Y</td>\n",
       "    </tr>\n",
       "    <tr>\n",
       "      <th>388</th>\n",
       "      <td>[cafe25, instant, drug, withdrawal]</td>\n",
       "      <td>V4B85</td>\n",
       "      <td>33.26036029</td>\n",
       "      <td>제주 서귀포시 일주동로8139 (하효동 631-2)</td>\n",
       "      <td>GS25효돈사거리점</td>\n",
       "      <td>126.61782937</td>\n",
       "      <td>제주</td>\n",
       "      <td>Y</td>\n",
       "    </tr>\n",
       "  </tbody>\n",
       "</table>\n",
       "<p>16377 rows × 8 columns</p>\n",
       "</div>"
      ],
      "text/plain": [
       "                           offeringService shopCode        longs  \\\n",
       "0                                   [post]    VQ037  37.52831065   \n",
       "1                           [cafe25, post]    VO395   37.5783899   \n",
       "2                           [cafe25, post]    VER76  37.57410234   \n",
       "3                  [cafe25, instant, post]    V9A48  37.50235508   \n",
       "4                       [drug, withdrawal]    VI989  37.55513349   \n",
       "..                                     ...      ...          ...   \n",
       "384          [cafe25, instant, drug, post]    V9377  33.51836478   \n",
       "385                         [cafe25, post]    V4S83  33.52321296   \n",
       "386          [cafe25, instant, withdrawal]    VY067  33.24402459   \n",
       "387  [cafe25, drug, withdrawal, self_cook]    VDB29  33.24653847   \n",
       "388    [cafe25, instant, drug, withdrawal]    V4B85  33.26036029   \n",
       "\n",
       "                                          address     shopName           lat  \\\n",
       "0          서울 양천구 목동서로159-1 (목1동 917-1, CBS방송국1층)     GS25CBS점  126.87486792   \n",
       "1               서울 마포구 매봉산로75, 1층 107호 (상암동 1610)    GS25DDMC점  126.89294205   \n",
       "2      서울 서대문구 가재울미래로2, 203동 101호 (남가좌동 385, 2단지)  GS25DMC가재울점  126.91639401   \n",
       "3    서울 강남구 테헤란로223, 1층 101호 (역삼동 677-25, 큰길타워빌딩)   GS25DXLAB점  127.04069826   \n",
       "4                      서울 강동구 고덕로39 (암사3동 441-14)     GS25G고덕점  127.12956973   \n",
       "..                                            ...          ...           ...   \n",
       "384                  제주 제주시 동화로1길49-9 (화북일동 13-6)    GS25화북주공점  126.57739082   \n",
       "385                    제주 제주시 진남로33 (화북일동 4201-2)    GS25화북진남점  126.56390997   \n",
       "386               제주 서귀포시 안덕면 화순중앙로94 (화순리 358-3)  GS25화순아일랜드점  126.33601411   \n",
       "387        제주 서귀포시 안덕면 화순로142, C동 1층 (화순리 1055-3)   GS25화순육거리점  126.33119176   \n",
       "388                  제주 서귀포시 일주동로8139 (하효동 631-2)   GS25효돈사거리점  126.61782937   \n",
       "\n",
       "      시 의료  \n",
       "0    서울  N  \n",
       "1    서울  N  \n",
       "2    서울  N  \n",
       "3    서울  N  \n",
       "4    서울  Y  \n",
       "..   .. ..  \n",
       "384  제주  Y  \n",
       "385  제주  N  \n",
       "386  제주  N  \n",
       "387  제주  Y  \n",
       "388  제주  Y  \n",
       "\n",
       "[16377 rows x 8 columns]"
      ]
     },
     "execution_count": 17,
     "metadata": {},
     "output_type": "execute_result"
    }
   ],
   "source": [
    "gs"
   ]
  },
  {
   "cell_type": "code",
   "execution_count": 18,
   "id": "3d74694a",
   "metadata": {},
   "outputs": [
    {
     "data": {
      "text/plain": [
       "Y    0.826689\n",
       "N    0.173311\n",
       "Name: 의료, dtype: float64"
      ]
     },
     "execution_count": 18,
     "metadata": {},
     "output_type": "execute_result"
    }
   ],
   "source": [
    "gs['의료'].value_counts(normalize=True)"
   ]
  },
  {
   "cell_type": "code",
   "execution_count": 19,
   "id": "82cf2d70",
   "metadata": {},
   "outputs": [
    {
     "data": {
      "text/plain": [
       "13189"
      ]
     },
     "execution_count": 19,
     "metadata": {},
     "output_type": "execute_result"
    }
   ],
   "source": [
    "gs[gs['의료']=='Y'].groupby(['시'])['의료'].count().sum()"
   ]
  },
  {
   "cell_type": "code",
   "execution_count": 20,
   "id": "f66064ce",
   "metadata": {},
   "outputs": [],
   "source": [
    "gs['의료'] = gs['의료'].fillna('N')"
   ]
  },
  {
   "cell_type": "markdown",
   "id": "849fbfa8",
   "metadata": {},
   "source": [
    "## 모든 서비스 제공하는 편의점 있는지 확인"
   ]
  },
  {
   "cell_type": "code",
   "execution_count": 21,
   "id": "f748dc76",
   "metadata": {},
   "outputs": [
    {
     "data": {
      "text/html": [
       "<div>\n",
       "<style scoped>\n",
       "    .dataframe tbody tr th:only-of-type {\n",
       "        vertical-align: middle;\n",
       "    }\n",
       "\n",
       "    .dataframe tbody tr th {\n",
       "        vertical-align: top;\n",
       "    }\n",
       "\n",
       "    .dataframe thead th {\n",
       "        text-align: right;\n",
       "    }\n",
       "</style>\n",
       "<table border=\"1\" class=\"dataframe\">\n",
       "  <thead>\n",
       "    <tr style=\"text-align: right;\">\n",
       "      <th></th>\n",
       "      <th>offeringService</th>\n",
       "      <th>shopCode</th>\n",
       "      <th>longs</th>\n",
       "      <th>address</th>\n",
       "      <th>shopName</th>\n",
       "      <th>lat</th>\n",
       "      <th>시</th>\n",
       "      <th>의료</th>\n",
       "    </tr>\n",
       "  </thead>\n",
       "  <tbody>\n",
       "    <tr>\n",
       "      <th>165</th>\n",
       "      <td>[toto, cafe25, instant, drug, post, atm, withd...</td>\n",
       "      <td>V9373</td>\n",
       "      <td>33.489818</td>\n",
       "      <td>제주 제주시 도령로76(연동 251-57)</td>\n",
       "      <td>GS25연동신광점</td>\n",
       "      <td>126.48660204</td>\n",
       "      <td>제주</td>\n",
       "      <td>Y</td>\n",
       "    </tr>\n",
       "  </tbody>\n",
       "</table>\n",
       "</div>"
      ],
      "text/plain": [
       "                                       offeringService shopCode      longs  \\\n",
       "165  [toto, cafe25, instant, drug, post, atm, withd...    V9373  33.489818   \n",
       "\n",
       "                     address   shopName           lat   시 의료  \n",
       "165  제주 제주시 도령로76(연동 251-57)  GS25연동신광점  126.48660204  제주  Y  "
      ]
     },
     "execution_count": 21,
     "metadata": {},
     "output_type": "execute_result"
    }
   ],
   "source": [
    "gs[gs['offeringService'].notnull()][gs[gs['offeringService'].notnull()]['offeringService'].apply(lambda x :len(x) == 11)]"
   ]
  },
  {
   "cell_type": "code",
   "execution_count": null,
   "id": "aff8e5e5",
   "metadata": {},
   "outputs": [],
   "source": []
  }
 ],
 "metadata": {
  "kernelspec": {
   "display_name": "Python 3 (ipykernel)",
   "language": "python",
   "name": "python3"
  },
  "language_info": {
   "codemirror_mode": {
    "name": "ipython",
    "version": 3
   },
   "file_extension": ".py",
   "mimetype": "text/x-python",
   "name": "python",
   "nbconvert_exporter": "python",
   "pygments_lexer": "ipython3",
   "version": "3.9.13"
  }
 },
 "nbformat": 4,
 "nbformat_minor": 5
}
