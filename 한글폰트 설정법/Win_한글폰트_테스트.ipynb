{
 "cells": [
  {
   "cell_type": "code",
   "execution_count": 1,
   "id": "ba2c3df1-8c55-4106-94ef-5f01d5d4b36b",
   "metadata": {},
   "outputs": [],
   "source": [
    "from matplotlib import font_manager, rc\n",
    "font_path = \"./font/malgun.ttf\"\n",
    "font_name = font_manager.FontProperties(fname = font_path).get_name()"
   ]
  },
  {
   "cell_type": "code",
   "execution_count": 2,
   "id": "cd4690f7-d3c2-4dfd-ab93-a0069dd84593",
   "metadata": {},
   "outputs": [
    {
     "data": {
      "text/plain": [
       "'Malgun Gothic'"
      ]
     },
     "execution_count": 2,
     "metadata": {},
     "output_type": "execute_result"
    }
   ],
   "source": [
    "font_name"
   ]
  },
  {
   "cell_type": "code",
   "execution_count": 3,
   "id": "797c6572-e8db-4493-810b-a03f6c78fe7d",
   "metadata": {},
   "outputs": [],
   "source": [
    "rc('font', family=font_name)"
   ]
  }
