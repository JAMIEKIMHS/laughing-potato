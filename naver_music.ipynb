{
 "cells": [
  {
   "cell_type": "code",
   "execution_count": 17,
   "id": "63c1de88",
   "metadata": {},
   "outputs": [],
   "source": [
    "from selenium import webdriver\n",
    "url = \"https://vibe.naver.com/chart/total\"\n",
    "driver = webdriver.Chrome()\n",
    "driver.get(url)"
   ]
  },
  {
   "cell_type": "code",
   "execution_count": 20,
   "id": "a77e22e7",
   "metadata": {},
   "outputs": [],
   "source": [
    "from bs4 import BeautifulSoup as BS\n",
    "bs = BS(driver.page_source)"
   ]
  },
  {
   "cell_type": "code",
   "execution_count": 24,
   "id": "8258cda0",
   "metadata": {},
   "outputs": [],
   "source": [
    "track_list = bs.find(\"div\",{\"class\" : \"tracklist\"}).findAll(\"td\",{\"class\":\"song\"})"
   ]
  },
  {
   "cell_type": "code",
   "execution_count": 45,
   "id": "eb3ac40f",
   "metadata": {},
   "outputs": [],
   "source": [
    "import pandas as pd"
   ]
  },
  {
   "cell_type": "code",
   "execution_count": 47,
   "id": "73235d65",
   "metadata": {},
   "outputs": [
    {
     "data": {
      "text/html": [
       "<div>\n",
       "<style scoped>\n",
       "    .dataframe tbody tr th:only-of-type {\n",
       "        vertical-align: middle;\n",
       "    }\n",
       "\n",
       "    .dataframe tbody tr th {\n",
       "        vertical-align: top;\n",
       "    }\n",
       "\n",
       "    .dataframe thead th {\n",
       "        text-align: right;\n",
       "    }\n",
       "</style>\n",
       "<table border=\"1\" class=\"dataframe\">\n",
       "  <thead>\n",
       "    <tr style=\"text-align: right;\">\n",
       "      <th></th>\n",
       "      <th>track_num</th>\n",
       "      <th>곡명</th>\n",
       "    </tr>\n",
       "  </thead>\n",
       "  <tbody>\n",
       "    <tr>\n",
       "      <th>0</th>\n",
       "      <td>59261740</td>\n",
       "      <td>Ditto</td>\n",
       "    </tr>\n",
       "    <tr>\n",
       "      <th>1</th>\n",
       "      <td>56398442</td>\n",
       "      <td>Hype boy</td>\n",
       "    </tr>\n",
       "    <tr>\n",
       "      <th>2</th>\n",
       "      <td>54692454</td>\n",
       "      <td>사건의 지평선</td>\n",
       "    </tr>\n",
       "    <tr>\n",
       "      <th>3</th>\n",
       "      <td>60030535</td>\n",
       "      <td>OMG</td>\n",
       "    </tr>\n",
       "    <tr>\n",
       "      <th>4</th>\n",
       "      <td>60702955</td>\n",
       "      <td>Teddy Bear</td>\n",
       "    </tr>\n",
       "    <tr>\n",
       "      <th>...</th>\n",
       "      <td>...</td>\n",
       "      <td>...</td>\n",
       "    </tr>\n",
       "    <tr>\n",
       "      <th>95</th>\n",
       "      <td>57182168</td>\n",
       "      <td>Talk that Talk</td>\n",
       "    </tr>\n",
       "    <tr>\n",
       "      <th>96</th>\n",
       "      <td>53824525</td>\n",
       "      <td>INVU</td>\n",
       "    </tr>\n",
       "    <tr>\n",
       "      <th>97</th>\n",
       "      <td>56592952</td>\n",
       "      <td>FOREVER 1</td>\n",
       "    </tr>\n",
       "    <tr>\n",
       "      <th>98</th>\n",
       "      <td>55017471</td>\n",
       "      <td>다시 만날 수 있을까</td>\n",
       "    </tr>\n",
       "    <tr>\n",
       "      <th>99</th>\n",
       "      <td>55144361</td>\n",
       "      <td>I Ain't Worried</td>\n",
       "    </tr>\n",
       "  </tbody>\n",
       "</table>\n",
       "<p>100 rows × 2 columns</p>\n",
       "</div>"
      ],
      "text/plain": [
       "   track_num               곡명\n",
       "0   59261740            Ditto\n",
       "1   56398442         Hype boy\n",
       "2   54692454          사건의 지평선\n",
       "3   60030535              OMG\n",
       "4   60702955       Teddy Bear\n",
       "..       ...              ...\n",
       "95  57182168   Talk that Talk\n",
       "96  53824525             INVU\n",
       "97  56592952        FOREVER 1\n",
       "98  55017471      다시 만날 수 있을까\n",
       "99  55144361  I Ain't Worried\n",
       "\n",
       "[100 rows x 2 columns]"
      ]
     },
     "execution_count": 47,
     "metadata": {},
     "output_type": "execute_result"
    }
   ],
   "source": [
    "song_info = []\n",
    "for song in track_list:\n",
    "    song_dict = {}\n",
    "    song_dict['track_num'] = song.find(\"span\").find(\"a\")['href'].split(\"/\")[2]\n",
    "    song_dict['곡명'] = song.find(\"span\").find(\"a\")['title']\n",
    "    song_info.append(song_dict)\n",
    "    \n",
    "pd.DataFrame(song_info)"
   ]
  },
  {
   "cell_type": "code",
   "execution_count": 48,
   "id": "501d3f79",
   "metadata": {},
   "outputs": [],
   "source": [
    "import os \n",
    "import time"
   ]
  },
  {
   "cell_type": "code",
   "execution_count": 75,
   "id": "ae083f96",
   "metadata": {},
   "outputs": [],
   "source": [
    "track_list = [x['track_num'] for x in song_info]    "
   ]
  },
  {
   "cell_type": "code",
   "execution_count": 79,
   "id": "e2567c98",
   "metadata": {},
   "outputs": [],
   "source": [
    "for song in track_list:\n",
    "    song_url = f\"https://vibe.naver.com/track/{song}\"\n",
    "    driver = webdriver.Chrome()\n",
    "    driver.get(song_url)\n",
    "    time.sleep(1)\n",
    "    bs= BS(driver.page_source)\n",
    "    if not os.path.isdir(\"./lyrics\"):\n",
    "        os.mkdir(\"./lyrics\")\n",
    "    title = bs.find(\"span\", {\"class\" : \"title\"}).text.replace(\"곡명\",\"\")\n",
    "    artist = bs.find(\"span\", {\"class\" : \"sub_title\"}).text.replace(\"아티스트명\", \"\")\n",
    "    with open(f\"./lyrics/{title}-{artist}.txt\", \"w\", encoding='utf-8') as f:   # 파일명을 곡명-아티스트.txt로 바꾸고 그 안에 가사 저장\n",
    "        f.write(bs.find(\"div\", {'class' : \"end_section section_lyrics\"}).find(\"p\").text)"
   ]
  },
  {
   "cell_type": "code",
   "execution_count": null,
   "id": "a49871b4",
   "metadata": {},
   "outputs": [],
   "source": []
  }
 ],
 "metadata": {
  "kernelspec": {
   "display_name": "Python 3 (ipykernel)",
   "language": "python",
   "name": "python3"
  },
  "language_info": {
   "codemirror_mode": {
    "name": "ipython",
    "version": 3
   },
   "file_extension": ".py",
   "mimetype": "text/x-python",
   "name": "python",
   "nbconvert_exporter": "python",
   "pygments_lexer": "ipython3",
   "version": "3.9.13"
  }
 },
 "nbformat": 4,
 "nbformat_minor": 5
}
